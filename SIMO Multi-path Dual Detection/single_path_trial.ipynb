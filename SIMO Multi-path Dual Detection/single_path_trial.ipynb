{
 "cells": [
  {
   "cell_type": "code",
   "execution_count": 3,
   "metadata": {},
   "outputs": [],
   "source": [
    "import numpy as np\n",
    "\n",
    "theta = np.random.rand() * np.pi / 2\n",
    "\n",
    "phi = theta\n",
    "\n",
    "# initialisation\n",
    "Nr = 4\n",
    "Nt = 1\n",
    "M = 4\n",
    "K = 20\n",
    "fc = 3e8\n",
    "lambda_1 = 3e8 / fc\n",
    "d = lambda_1 / 2\n",
    "scs = 20e3;\n",
    "Fs = scs * M / 2\n",
    "Ts = 1/Fs\n",
    "L = 1\n",
    "\n"
   ]
  },
  {
   "cell_type": "code",
   "execution_count": null,
   "metadata": {},
   "outputs": [],
   "source": [
    "b = np.random.randn(L, 1)\n",
    "tau = np.random.randn(L, 1) * 1e-9\n",
    "b = np.random.randn(L, 1)"
   ]
  }
 ],
 "metadata": {
  "kernelspec": {
   "display_name": "base",
   "language": "python",
   "name": "python3"
  },
  "language_info": {
   "codemirror_mode": {
    "name": "ipython",
    "version": 3
   },
   "file_extension": ".py",
   "mimetype": "text/x-python",
   "name": "python",
   "nbconvert_exporter": "python",
   "pygments_lexer": "ipython3",
   "version": "3.9.7"
  },
  "orig_nbformat": 4,
  "vscode": {
   "interpreter": {
    "hash": "40d3a090f54c6569ab1632332b64b2c03c39dcf918b08424e98f38b5ae0af88f"
   }
  }
 },
 "nbformat": 4,
 "nbformat_minor": 2
}
